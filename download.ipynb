{
 "cells": [
  {
   "cell_type": "markdown",
   "id": "509da589-ae54-4aeb-9057-c69c166c3250",
   "metadata": {},
   "source": [
    "# Install ArcGis for python\n",
    "Dokumentasi bisa dilihat melalui tautan https://developers.arcgis.com/python/ dan https://developers.arcgis.com/python/api-reference/  \n",
    "Module arcgis dapat diinstall menggunakan command `conda install -c esri ArcGIS`"
   ]
  },
  {
   "cell_type": "code",
   "execution_count": 54,
   "id": "2a57d618-115f-4424-82d0-dfcb2cd8e128",
   "metadata": {
    "tags": []
   },
   "outputs": [],
   "source": [
    "from arcgis.features import FeatureLayerCollection\n",
    "import os"
   ]
  },
  {
   "cell_type": "markdown",
   "id": "71d26ddc-4af1-474b-851e-2433756dbe17",
   "metadata": {},
   "source": [
    "## Inisasi variable\n",
    "1. Variabel `skala_peta` hanya tersedia opsi `25K, 50K, 250K`  \n",
    "2. Variabel`url` digunakan untuk mendapatkan me-load MapServer milik BIG. Untuk detail penjelasan terkait FeaturesCollection bisa dilihat melalui tautan \n",
    "https://developers.arcgis.com/python/guide/working-with-feature-layers-and-features/  \n",
    "3. Variabel `url_download` digunakan untuk mendownload peta yang tersedia di server BIG"
   ]
  },
  {
   "cell_type": "code",
   "execution_count": 68,
   "id": "678928c8-3142-4ec7-87cb-e94d135f8a84",
   "metadata": {
    "tags": []
   },
   "outputs": [],
   "source": [
    "skala_peta = '25K'\n",
    "url = 'https://geoservices.big.go.id/gis/rest/services/PPIG/IDX_Download/MapServer/'\n",
    "url_download = 'https://tanahair.indonesia.go.id/portal-web/downloadpetacetak/Zip?skala={}&namaFile='.format(skala_peta)\n",
    "output_directory = 'output'\n",
    "download_using_python = False"
   ]
  },
  {
   "cell_type": "markdown",
   "id": "9930beb7-eb00-4dcd-875b-a58c6eb2da42",
   "metadata": {},
   "source": [
    "## Get features collection from MapServer\n",
    "Meload map service dari server BIG"
   ]
  },
  {
   "cell_type": "code",
   "execution_count": 3,
   "id": "27fb8c28-4a24-4d55-9657-2657a53baced",
   "metadata": {
    "tags": []
   },
   "outputs": [],
   "source": [
    "feature_layer_collection = FeatureLayerCollection(url)"
   ]
  },
  {
   "cell_type": "code",
   "execution_count": 4,
   "id": "f717808a-10d5-40f4-b559-5232e5ead92d",
   "metadata": {
    "tags": []
   },
   "outputs": [
    {
     "data": {
      "text/plain": [
       "<FeatureLayerCollection url:\"https://geoservices.big.go.id/gis/rest/services/PPIG/IDX_Download/MapServer\">"
      ]
     },
     "execution_count": 4,
     "metadata": {},
     "output_type": "execute_result"
    }
   ],
   "source": [
    "feature_layer_collection"
   ]
  },
  {
   "cell_type": "markdown",
   "id": "ddf49ab2-fc1b-42a5-bf51-fbb32688921c",
   "metadata": {
    "tags": []
   },
   "source": [
    "---\n",
    "Melihat ketersediaan FeatureLayers pada FeaturesCollection"
   ]
  },
  {
   "cell_type": "code",
   "execution_count": 5,
   "id": "46ab0a99-d6e4-4d9b-9130-686b41ad57a3",
   "metadata": {
    "tags": []
   },
   "outputs": [],
   "source": [
    "feature_layers = feature_layer_collection.layers"
   ]
  },
  {
   "cell_type": "code",
   "execution_count": 6,
   "id": "26696fd3-0ab9-46f3-987a-a4134494fc4b",
   "metadata": {
    "tags": []
   },
   "outputs": [
    {
     "data": {
      "text/plain": [
       "[<FeatureLayer url:\"https://geoservices.big.go.id/gis/rest/services/PPIG/IDX_Download/MapServer/0\">,\n",
       " <FeatureLayer url:\"https://geoservices.big.go.id/gis/rest/services/PPIG/IDX_Download/MapServer/1\">,\n",
       " <FeatureLayer url:\"https://geoservices.big.go.id/gis/rest/services/PPIG/IDX_Download/MapServer/2\">,\n",
       " <FeatureLayer url:\"https://geoservices.big.go.id/gis/rest/services/PPIG/IDX_Download/MapServer/3\">]"
      ]
     },
     "execution_count": 6,
     "metadata": {},
     "output_type": "execute_result"
    }
   ],
   "source": [
    "feature_layers"
   ]
  },
  {
   "cell_type": "code",
   "execution_count": 10,
   "id": "88934d2a-8540-4e47-9ada-2640987fc5d7",
   "metadata": {
    "tags": []
   },
   "outputs": [
    {
     "name": "stdout",
     "output_type": "stream",
     "text": [
      "LPI_50K\n",
      "RBI_25K\n",
      "RBI_50K\n",
      "RBI_250K\n"
     ]
    }
   ],
   "source": [
    "for layer in feature_layers:\n",
    "    print(layer.properties.name)"
   ]
  },
  {
   "cell_type": "markdown",
   "id": "fb63a105-e41b-4a1a-a906-62145888cc38",
   "metadata": {},
   "source": [
    "---\n",
    "Fungsi ini digunakan memilih FeatureLayer berdasarkan skala peta yang dipilih"
   ]
  },
  {
   "cell_type": "code",
   "execution_count": 7,
   "id": "5ab48c39-e2b8-4c2d-919d-456ef76963ad",
   "metadata": {
    "tags": []
   },
   "outputs": [],
   "source": [
    "def select_feature_layers(feature_layers, skala_peta):\n",
    "    if skala_peta == '25K':\n",
    "        return feature_layers[1]\n",
    "    if skala_peta == '50K':\n",
    "        return feature_layers[2]\n",
    "    if skala_peta == '250K':\n",
    "        return feature_layers[3]"
   ]
  },
  {
   "cell_type": "code",
   "execution_count": 39,
   "id": "4bf60844-02c9-4324-bb87-cebb4bc44075",
   "metadata": {
    "tags": []
   },
   "outputs": [],
   "source": [
    "feature_layer = select_feature_layers(feature_layers, '25K')"
   ]
  },
  {
   "cell_type": "code",
   "execution_count": 40,
   "id": "35459d19-a061-4779-8626-0e06749ede6d",
   "metadata": {
    "tags": []
   },
   "outputs": [
    {
     "data": {
      "text/plain": [
       "<FeatureLayer url:\"https://geoservices.big.go.id/gis/rest/services/PPIG/IDX_Download/MapServer/1\">"
      ]
     },
     "execution_count": 40,
     "metadata": {},
     "output_type": "execute_result"
    }
   ],
   "source": [
    "feature_layer"
   ]
  },
  {
   "cell_type": "markdown",
   "id": "73996d24-74e5-4a9f-9bc3-b47ee0ad5b9f",
   "metadata": {},
   "source": [
    "---\n",
    "Mendapatkan daftar field attributes dari FeatureLayer"
   ]
  },
  {
   "cell_type": "code",
   "execution_count": 41,
   "id": "7dbd40d0-a3e2-4f11-84f1-1dce651397a4",
   "metadata": {
    "tags": []
   },
   "outputs": [],
   "source": [
    "fields = feature_layer.properties.fields"
   ]
  },
  {
   "cell_type": "code",
   "execution_count": 42,
   "id": "a05217ab-5028-4302-90e5-0a0222202805",
   "metadata": {
    "tags": []
   },
   "outputs": [
    {
     "name": "stdout",
     "output_type": "stream",
     "text": [
      "FID\n",
      "Shape\n",
      "NOMOR_PETA\n",
      "NAMA_PETA\n",
      "REGION\n",
      "SUMBERDATA\n",
      "TAHUN_BUAT\n",
      "THN_SEAMLE\n",
      "KET\n",
      "THN_UPDATE\n"
     ]
    }
   ],
   "source": [
    "for f in fields:\n",
    "    print(f['name'])"
   ]
  },
  {
   "cell_type": "markdown",
   "id": "89a30019-5d51-47ab-8acf-f67a047d14fb",
   "metadata": {},
   "source": [
    "---\n",
    "## Mendapatkan seluruh data attributes dari FeatureLayer\n",
    "Dokumentasi terkait `query()` method dapat dilihat pada tautan berikut https://developers.arcgis.com/python/api-reference/arcgis.features.toc.html"
   ]
  },
  {
   "cell_type": "code",
   "execution_count": 43,
   "id": "f9aac5ab-3ebf-4052-af97-075a30fb620a",
   "metadata": {
    "tags": []
   },
   "outputs": [],
   "source": [
    "query = feature_layer.query(return_geometry=False)"
   ]
  },
  {
   "cell_type": "markdown",
   "id": "33df4463-8f0b-450c-a01b-79172971ddff",
   "metadata": {},
   "source": [
    "Merubah ke dalam format pandas dataframe"
   ]
  },
  {
   "cell_type": "code",
   "execution_count": 44,
   "id": "cce1d863-94a9-4d8e-aefb-dd1b53319e5b",
   "metadata": {
    "tags": []
   },
   "outputs": [],
   "source": [
    "df = query.sdf"
   ]
  },
  {
   "cell_type": "code",
   "execution_count": 45,
   "id": "1bd2db80-7a9e-496d-a4c6-a85e6b7b3822",
   "metadata": {
    "tags": []
   },
   "outputs": [
    {
     "data": {
      "text/html": [
       "<div>\n",
       "<style scoped>\n",
       "    .dataframe tbody tr th:only-of-type {\n",
       "        vertical-align: middle;\n",
       "    }\n",
       "\n",
       "    .dataframe tbody tr th {\n",
       "        vertical-align: top;\n",
       "    }\n",
       "\n",
       "    .dataframe thead th {\n",
       "        text-align: right;\n",
       "    }\n",
       "</style>\n",
       "<table border=\"1\" class=\"dataframe\">\n",
       "  <thead>\n",
       "    <tr style=\"text-align: right;\">\n",
       "      <th></th>\n",
       "      <th>FID</th>\n",
       "      <th>NOMOR_PETA</th>\n",
       "      <th>NAMA_PETA</th>\n",
       "      <th>REGION</th>\n",
       "      <th>SUMBERDATA</th>\n",
       "      <th>TAHUN_BUAT</th>\n",
       "      <th>THN_SEAMLE</th>\n",
       "      <th>KET</th>\n",
       "      <th>THN_UPDATE</th>\n",
       "    </tr>\n",
       "  </thead>\n",
       "  <tbody>\n",
       "    <tr>\n",
       "      <th>0</th>\n",
       "      <td>0</td>\n",
       "      <td>2204-643</td>\n",
       "      <td>TANJUNG OTO</td>\n",
       "      <td>NUSA TENGGARA</td>\n",
       "      <td>Foto Udara skala 1:50000 tahun 1993/1994</td>\n",
       "      <td>2000</td>\n",
       "      <td></td>\n",
       "      <td>Kode unsur 4 digit. Belum bisa didefinisikan k...</td>\n",
       "      <td></td>\n",
       "    </tr>\n",
       "    <tr>\n",
       "      <th>1</th>\n",
       "      <td>1</td>\n",
       "      <td>2204-644</td>\n",
       "      <td>TANJUNG LAFUFU</td>\n",
       "      <td>NUSA TENGGARA</td>\n",
       "      <td>Foto Udara skala 1:50000 tahun 1993/1994</td>\n",
       "      <td>2000</td>\n",
       "      <td>2006</td>\n",
       "      <td></td>\n",
       "      <td></td>\n",
       "    </tr>\n",
       "    <tr>\n",
       "      <th>2</th>\n",
       "      <td>2</td>\n",
       "      <td>2205-321</td>\n",
       "      <td>MEMBERALA</td>\n",
       "      <td>NUSA TENGGARA</td>\n",
       "      <td>Foto Udara skala 1:50000 tahun 1993/1994</td>\n",
       "      <td>2000</td>\n",
       "      <td>2006</td>\n",
       "      <td></td>\n",
       "      <td></td>\n",
       "    </tr>\n",
       "    <tr>\n",
       "      <th>3</th>\n",
       "      <td>3</td>\n",
       "      <td>2205-322</td>\n",
       "      <td>OEBOU</td>\n",
       "      <td>NUSA TENGGARA</td>\n",
       "      <td>Foto Udara skala 1:50000 tahun 1993/1994</td>\n",
       "      <td>2000</td>\n",
       "      <td>2006</td>\n",
       "      <td></td>\n",
       "      <td></td>\n",
       "    </tr>\n",
       "    <tr>\n",
       "      <th>4</th>\n",
       "      <td>4</td>\n",
       "      <td>2305-111</td>\n",
       "      <td>BATU NARUK</td>\n",
       "      <td>NUSA TENGGARA</td>\n",
       "      <td>Foto Udara skala 1:50000 tahun 1993/1994</td>\n",
       "      <td>2000</td>\n",
       "      <td>2006</td>\n",
       "      <td></td>\n",
       "      <td></td>\n",
       "    </tr>\n",
       "    <tr>\n",
       "      <th>...</th>\n",
       "      <td>...</td>\n",
       "      <td>...</td>\n",
       "      <td>...</td>\n",
       "      <td>...</td>\n",
       "      <td>...</td>\n",
       "      <td>...</td>\n",
       "      <td>...</td>\n",
       "      <td>...</td>\n",
       "      <td>...</td>\n",
       "    </tr>\n",
       "    <tr>\n",
       "      <th>1781</th>\n",
       "      <td>1781</td>\n",
       "      <td>0517-344</td>\n",
       "      <td>X</td>\n",
       "      <td>SUMATERA</td>\n",
       "      <td>Foto Udara skala 1:50000 tahun 1993/1994</td>\n",
       "      <td>1996</td>\n",
       "      <td>2006</td>\n",
       "      <td></td>\n",
       "      <td></td>\n",
       "    </tr>\n",
       "    <tr>\n",
       "      <th>1782</th>\n",
       "      <td>1782</td>\n",
       "      <td>0617-133</td>\n",
       "      <td>TELUK UKAR</td>\n",
       "      <td>SUMATERA</td>\n",
       "      <td>Foto Udara skala 1:50000 tahun 1993/1994</td>\n",
       "      <td>1996</td>\n",
       "      <td>2006</td>\n",
       "      <td></td>\n",
       "      <td></td>\n",
       "    </tr>\n",
       "    <tr>\n",
       "      <th>1783</th>\n",
       "      <td>1783</td>\n",
       "      <td>0517-621</td>\n",
       "      <td>X</td>\n",
       "      <td>SUMATERA</td>\n",
       "      <td>Foto Udara skala 1:50000 tahun 1993/1994</td>\n",
       "      <td>1996</td>\n",
       "      <td>2006</td>\n",
       "      <td></td>\n",
       "      <td></td>\n",
       "    </tr>\n",
       "    <tr>\n",
       "      <th>1784</th>\n",
       "      <td>1784</td>\n",
       "      <td>0517-622</td>\n",
       "      <td>X</td>\n",
       "      <td>SUMATERA</td>\n",
       "      <td>Foto Udara skala 1:50000 tahun 1993/1994</td>\n",
       "      <td>1996</td>\n",
       "      <td>2006</td>\n",
       "      <td></td>\n",
       "      <td></td>\n",
       "    </tr>\n",
       "    <tr>\n",
       "      <th>1785</th>\n",
       "      <td>1785</td>\n",
       "      <td>1709-342</td>\n",
       "      <td>TAKAT KERANGKAN</td>\n",
       "      <td>JAWA</td>\n",
       "      <td>Foto Udara skala 1:50000 tahun 1993/1994</td>\n",
       "      <td>2000</td>\n",
       "      <td>2006</td>\n",
       "      <td></td>\n",
       "      <td></td>\n",
       "    </tr>\n",
       "  </tbody>\n",
       "</table>\n",
       "<p>1786 rows × 9 columns</p>\n",
       "</div>"
      ],
      "text/plain": [
       "       FID NOMOR_PETA        NAMA_PETA         REGION  \\\n",
       "0        0   2204-643      TANJUNG OTO  NUSA TENGGARA   \n",
       "1        1   2204-644   TANJUNG LAFUFU  NUSA TENGGARA   \n",
       "2        2   2205-321        MEMBERALA  NUSA TENGGARA   \n",
       "3        3   2205-322            OEBOU  NUSA TENGGARA   \n",
       "4        4   2305-111       BATU NARUK  NUSA TENGGARA   \n",
       "...    ...        ...              ...            ...   \n",
       "1781  1781   0517-344                X       SUMATERA   \n",
       "1782  1782   0617-133       TELUK UKAR       SUMATERA   \n",
       "1783  1783   0517-621                X       SUMATERA   \n",
       "1784  1784   0517-622                X       SUMATERA   \n",
       "1785  1785   1709-342  TAKAT KERANGKAN           JAWA   \n",
       "\n",
       "                                    SUMBERDATA TAHUN_BUAT THN_SEAMLE  \\\n",
       "0     Foto Udara skala 1:50000 tahun 1993/1994       2000              \n",
       "1     Foto Udara skala 1:50000 tahun 1993/1994       2000       2006   \n",
       "2     Foto Udara skala 1:50000 tahun 1993/1994       2000       2006   \n",
       "3     Foto Udara skala 1:50000 tahun 1993/1994       2000       2006   \n",
       "4     Foto Udara skala 1:50000 tahun 1993/1994       2000       2006   \n",
       "...                                        ...        ...        ...   \n",
       "1781  Foto Udara skala 1:50000 tahun 1993/1994       1996       2006   \n",
       "1782  Foto Udara skala 1:50000 tahun 1993/1994       1996       2006   \n",
       "1783  Foto Udara skala 1:50000 tahun 1993/1994       1996       2006   \n",
       "1784  Foto Udara skala 1:50000 tahun 1993/1994       1996       2006   \n",
       "1785  Foto Udara skala 1:50000 tahun 1993/1994       2000       2006   \n",
       "\n",
       "                                                    KET THN_UPDATE  \n",
       "0     Kode unsur 4 digit. Belum bisa didefinisikan k...             \n",
       "1                                                                   \n",
       "2                                                                   \n",
       "3                                                                   \n",
       "4                                                                   \n",
       "...                                                 ...        ...  \n",
       "1781                                                                \n",
       "1782                                                                \n",
       "1783                                                                \n",
       "1784                                                                \n",
       "1785                                                                \n",
       "\n",
       "[1786 rows x 9 columns]"
      ]
     },
     "execution_count": 45,
     "metadata": {},
     "output_type": "execute_result"
    }
   ],
   "source": [
    "df"
   ]
  },
  {
   "cell_type": "markdown",
   "id": "7a58a2cd-3733-4d4a-bfe2-ca4d7ac23794",
   "metadata": {},
   "source": [
    "## Menambahkan kolom download_link pada dataframe"
   ]
  },
  {
   "cell_type": "code",
   "execution_count": 47,
   "id": "a55cc997-a221-4a3d-85b8-fc4ff528b1d6",
   "metadata": {
    "tags": []
   },
   "outputs": [],
   "source": [
    "def add_download_link(nomor_peta):\n",
    "    return '{}{}{}'.format(url_download, nomor_peta, '.zip')"
   ]
  },
  {
   "cell_type": "code",
   "execution_count": 48,
   "id": "2a7eca61-7ef7-48ac-9e35-ef1df8d598a9",
   "metadata": {
    "tags": []
   },
   "outputs": [],
   "source": [
    "df['download_link'] = df['NOMOR_PETA'].apply(add_download_link)"
   ]
  },
  {
   "cell_type": "code",
   "execution_count": 52,
   "id": "321ccee3-9bbb-42a6-bd6e-c028fbc1a877",
   "metadata": {
    "tags": []
   },
   "outputs": [
    {
     "data": {
      "text/html": [
       "<div>\n",
       "<style scoped>\n",
       "    .dataframe tbody tr th:only-of-type {\n",
       "        vertical-align: middle;\n",
       "    }\n",
       "\n",
       "    .dataframe tbody tr th {\n",
       "        vertical-align: top;\n",
       "    }\n",
       "\n",
       "    .dataframe thead th {\n",
       "        text-align: right;\n",
       "    }\n",
       "</style>\n",
       "<table border=\"1\" class=\"dataframe\">\n",
       "  <thead>\n",
       "    <tr style=\"text-align: right;\">\n",
       "      <th></th>\n",
       "      <th>FID</th>\n",
       "      <th>NOMOR_PETA</th>\n",
       "      <th>NAMA_PETA</th>\n",
       "      <th>REGION</th>\n",
       "      <th>SUMBERDATA</th>\n",
       "      <th>TAHUN_BUAT</th>\n",
       "      <th>THN_SEAMLE</th>\n",
       "      <th>KET</th>\n",
       "      <th>THN_UPDATE</th>\n",
       "      <th>download_link</th>\n",
       "    </tr>\n",
       "  </thead>\n",
       "  <tbody>\n",
       "    <tr>\n",
       "      <th>0</th>\n",
       "      <td>0</td>\n",
       "      <td>2204-643</td>\n",
       "      <td>TANJUNG OTO</td>\n",
       "      <td>NUSA TENGGARA</td>\n",
       "      <td>Foto Udara skala 1:50000 tahun 1993/1994</td>\n",
       "      <td>2000</td>\n",
       "      <td></td>\n",
       "      <td>Kode unsur 4 digit. Belum bisa didefinisikan k...</td>\n",
       "      <td></td>\n",
       "      <td>https://tanahair.indonesia.go.id/portal-web/do...</td>\n",
       "    </tr>\n",
       "    <tr>\n",
       "      <th>1</th>\n",
       "      <td>1</td>\n",
       "      <td>2204-644</td>\n",
       "      <td>TANJUNG LAFUFU</td>\n",
       "      <td>NUSA TENGGARA</td>\n",
       "      <td>Foto Udara skala 1:50000 tahun 1993/1994</td>\n",
       "      <td>2000</td>\n",
       "      <td>2006</td>\n",
       "      <td></td>\n",
       "      <td></td>\n",
       "      <td>https://tanahair.indonesia.go.id/portal-web/do...</td>\n",
       "    </tr>\n",
       "    <tr>\n",
       "      <th>2</th>\n",
       "      <td>2</td>\n",
       "      <td>2205-321</td>\n",
       "      <td>MEMBERALA</td>\n",
       "      <td>NUSA TENGGARA</td>\n",
       "      <td>Foto Udara skala 1:50000 tahun 1993/1994</td>\n",
       "      <td>2000</td>\n",
       "      <td>2006</td>\n",
       "      <td></td>\n",
       "      <td></td>\n",
       "      <td>https://tanahair.indonesia.go.id/portal-web/do...</td>\n",
       "    </tr>\n",
       "    <tr>\n",
       "      <th>3</th>\n",
       "      <td>3</td>\n",
       "      <td>2205-322</td>\n",
       "      <td>OEBOU</td>\n",
       "      <td>NUSA TENGGARA</td>\n",
       "      <td>Foto Udara skala 1:50000 tahun 1993/1994</td>\n",
       "      <td>2000</td>\n",
       "      <td>2006</td>\n",
       "      <td></td>\n",
       "      <td></td>\n",
       "      <td>https://tanahair.indonesia.go.id/portal-web/do...</td>\n",
       "    </tr>\n",
       "    <tr>\n",
       "      <th>4</th>\n",
       "      <td>4</td>\n",
       "      <td>2305-111</td>\n",
       "      <td>BATU NARUK</td>\n",
       "      <td>NUSA TENGGARA</td>\n",
       "      <td>Foto Udara skala 1:50000 tahun 1993/1994</td>\n",
       "      <td>2000</td>\n",
       "      <td>2006</td>\n",
       "      <td></td>\n",
       "      <td></td>\n",
       "      <td>https://tanahair.indonesia.go.id/portal-web/do...</td>\n",
       "    </tr>\n",
       "    <tr>\n",
       "      <th>...</th>\n",
       "      <td>...</td>\n",
       "      <td>...</td>\n",
       "      <td>...</td>\n",
       "      <td>...</td>\n",
       "      <td>...</td>\n",
       "      <td>...</td>\n",
       "      <td>...</td>\n",
       "      <td>...</td>\n",
       "      <td>...</td>\n",
       "      <td>...</td>\n",
       "    </tr>\n",
       "    <tr>\n",
       "      <th>1781</th>\n",
       "      <td>1781</td>\n",
       "      <td>0517-344</td>\n",
       "      <td>X</td>\n",
       "      <td>SUMATERA</td>\n",
       "      <td>Foto Udara skala 1:50000 tahun 1993/1994</td>\n",
       "      <td>1996</td>\n",
       "      <td>2006</td>\n",
       "      <td></td>\n",
       "      <td></td>\n",
       "      <td>https://tanahair.indonesia.go.id/portal-web/do...</td>\n",
       "    </tr>\n",
       "    <tr>\n",
       "      <th>1782</th>\n",
       "      <td>1782</td>\n",
       "      <td>0617-133</td>\n",
       "      <td>TELUK UKAR</td>\n",
       "      <td>SUMATERA</td>\n",
       "      <td>Foto Udara skala 1:50000 tahun 1993/1994</td>\n",
       "      <td>1996</td>\n",
       "      <td>2006</td>\n",
       "      <td></td>\n",
       "      <td></td>\n",
       "      <td>https://tanahair.indonesia.go.id/portal-web/do...</td>\n",
       "    </tr>\n",
       "    <tr>\n",
       "      <th>1783</th>\n",
       "      <td>1783</td>\n",
       "      <td>0517-621</td>\n",
       "      <td>X</td>\n",
       "      <td>SUMATERA</td>\n",
       "      <td>Foto Udara skala 1:50000 tahun 1993/1994</td>\n",
       "      <td>1996</td>\n",
       "      <td>2006</td>\n",
       "      <td></td>\n",
       "      <td></td>\n",
       "      <td>https://tanahair.indonesia.go.id/portal-web/do...</td>\n",
       "    </tr>\n",
       "    <tr>\n",
       "      <th>1784</th>\n",
       "      <td>1784</td>\n",
       "      <td>0517-622</td>\n",
       "      <td>X</td>\n",
       "      <td>SUMATERA</td>\n",
       "      <td>Foto Udara skala 1:50000 tahun 1993/1994</td>\n",
       "      <td>1996</td>\n",
       "      <td>2006</td>\n",
       "      <td></td>\n",
       "      <td></td>\n",
       "      <td>https://tanahair.indonesia.go.id/portal-web/do...</td>\n",
       "    </tr>\n",
       "    <tr>\n",
       "      <th>1785</th>\n",
       "      <td>1785</td>\n",
       "      <td>1709-342</td>\n",
       "      <td>TAKAT KERANGKAN</td>\n",
       "      <td>JAWA</td>\n",
       "      <td>Foto Udara skala 1:50000 tahun 1993/1994</td>\n",
       "      <td>2000</td>\n",
       "      <td>2006</td>\n",
       "      <td></td>\n",
       "      <td></td>\n",
       "      <td>https://tanahair.indonesia.go.id/portal-web/do...</td>\n",
       "    </tr>\n",
       "  </tbody>\n",
       "</table>\n",
       "<p>1786 rows × 10 columns</p>\n",
       "</div>"
      ],
      "text/plain": [
       "       FID NOMOR_PETA        NAMA_PETA         REGION  \\\n",
       "0        0   2204-643      TANJUNG OTO  NUSA TENGGARA   \n",
       "1        1   2204-644   TANJUNG LAFUFU  NUSA TENGGARA   \n",
       "2        2   2205-321        MEMBERALA  NUSA TENGGARA   \n",
       "3        3   2205-322            OEBOU  NUSA TENGGARA   \n",
       "4        4   2305-111       BATU NARUK  NUSA TENGGARA   \n",
       "...    ...        ...              ...            ...   \n",
       "1781  1781   0517-344                X       SUMATERA   \n",
       "1782  1782   0617-133       TELUK UKAR       SUMATERA   \n",
       "1783  1783   0517-621                X       SUMATERA   \n",
       "1784  1784   0517-622                X       SUMATERA   \n",
       "1785  1785   1709-342  TAKAT KERANGKAN           JAWA   \n",
       "\n",
       "                                    SUMBERDATA TAHUN_BUAT THN_SEAMLE  \\\n",
       "0     Foto Udara skala 1:50000 tahun 1993/1994       2000              \n",
       "1     Foto Udara skala 1:50000 tahun 1993/1994       2000       2006   \n",
       "2     Foto Udara skala 1:50000 tahun 1993/1994       2000       2006   \n",
       "3     Foto Udara skala 1:50000 tahun 1993/1994       2000       2006   \n",
       "4     Foto Udara skala 1:50000 tahun 1993/1994       2000       2006   \n",
       "...                                        ...        ...        ...   \n",
       "1781  Foto Udara skala 1:50000 tahun 1993/1994       1996       2006   \n",
       "1782  Foto Udara skala 1:50000 tahun 1993/1994       1996       2006   \n",
       "1783  Foto Udara skala 1:50000 tahun 1993/1994       1996       2006   \n",
       "1784  Foto Udara skala 1:50000 tahun 1993/1994       1996       2006   \n",
       "1785  Foto Udara skala 1:50000 tahun 1993/1994       2000       2006   \n",
       "\n",
       "                                                    KET THN_UPDATE  \\\n",
       "0     Kode unsur 4 digit. Belum bisa didefinisikan k...              \n",
       "1                                                                    \n",
       "2                                                                    \n",
       "3                                                                    \n",
       "4                                                                    \n",
       "...                                                 ...        ...   \n",
       "1781                                                                 \n",
       "1782                                                                 \n",
       "1783                                                                 \n",
       "1784                                                                 \n",
       "1785                                                                 \n",
       "\n",
       "                                          download_link  \n",
       "0     https://tanahair.indonesia.go.id/portal-web/do...  \n",
       "1     https://tanahair.indonesia.go.id/portal-web/do...  \n",
       "2     https://tanahair.indonesia.go.id/portal-web/do...  \n",
       "3     https://tanahair.indonesia.go.id/portal-web/do...  \n",
       "4     https://tanahair.indonesia.go.id/portal-web/do...  \n",
       "...                                                 ...  \n",
       "1781  https://tanahair.indonesia.go.id/portal-web/do...  \n",
       "1782  https://tanahair.indonesia.go.id/portal-web/do...  \n",
       "1783  https://tanahair.indonesia.go.id/portal-web/do...  \n",
       "1784  https://tanahair.indonesia.go.id/portal-web/do...  \n",
       "1785  https://tanahair.indonesia.go.id/portal-web/do...  \n",
       "\n",
       "[1786 rows x 10 columns]"
      ]
     },
     "execution_count": 52,
     "metadata": {},
     "output_type": "execute_result"
    }
   ],
   "source": [
    "df"
   ]
  },
  {
   "cell_type": "markdown",
   "id": "6ea40285-7986-4a68-a370-4f99496935c7",
   "metadata": {},
   "source": [
    "### Export download link\n",
    "Dapat digunakan untuk mendownload menggunakan download manager"
   ]
  },
  {
   "cell_type": "code",
   "execution_count": 69,
   "id": "a65ea386-e039-4046-9db9-8d81567f4407",
   "metadata": {
    "tags": []
   },
   "outputs": [],
   "source": [
    "batch_download_for_download_manager = '{}_batch_download.txt'.format(skala_peta)"
   ]
  },
  {
   "cell_type": "code",
   "execution_count": 70,
   "id": "0add5e39-16be-46ea-bd26-363169299d60",
   "metadata": {
    "tags": []
   },
   "outputs": [],
   "source": [
    "df['download_link'].to_csv(batch_download_for_download_manager, header=False, index=False)"
   ]
  },
  {
   "cell_type": "markdown",
   "id": "522e5737-864b-4ee7-9a7e-fc0ec767afca",
   "metadata": {},
   "source": [
    "## Download Menggunakan python\n",
    "\n",
    "BELUM BERES"
   ]
  },
  {
   "cell_type": "code",
   "execution_count": 62,
   "id": "d73afa45-333d-48df-b90d-7881ad466d9d",
   "metadata": {
    "tags": []
   },
   "outputs": [],
   "source": [
    "output = os.path.join(os.getcwd(), output_directory)\n",
    "os.makedirs(output, exist_ok=True)"
   ]
  },
  {
   "cell_type": "code",
   "execution_count": 61,
   "id": "ba11030e-3fd4-4f44-ad1e-9be715f104ab",
   "metadata": {
    "tags": []
   },
   "outputs": [],
   "source": []
  },
  {
   "cell_type": "code",
   "execution_count": null,
   "id": "f6c792a3-2047-4f8e-86dc-eace74d03873",
   "metadata": {},
   "outputs": [],
   "source": []
  }
 ],
 "metadata": {
  "kernelspec": {
   "display_name": "Python 3 (ipykernel)",
   "language": "python",
   "name": "python3"
  },
  "language_info": {
   "codemirror_mode": {
    "name": "ipython",
    "version": 3
   },
   "file_extension": ".py",
   "mimetype": "text/x-python",
   "name": "python",
   "nbconvert_exporter": "python",
   "pygments_lexer": "ipython3",
   "version": "3.11.5"
  }
 },
 "nbformat": 4,
 "nbformat_minor": 5
}
